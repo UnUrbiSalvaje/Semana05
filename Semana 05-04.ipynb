{
 "cells": [
  {
   "cell_type": "raw",
   "id": "dc47f879",
   "metadata": {},
   "source": [
    "4. Clase y Objetos"
   ]
  },
  {
   "cell_type": "code",
   "execution_count": 1,
   "id": "40d2b960",
   "metadata": {},
   "outputs": [],
   "source": [
    "# Problema 01:\n",
    "\n",
    "# Crear la siguiente clase:\n",
    "#  - Clase: Persona \n",
    "#  - Atributos: nombre, apellido, fecha_nacimiento, dni"
   ]
  },
  {
   "cell_type": "code",
   "execution_count": 2,
   "id": "63d0cce4",
   "metadata": {},
   "outputs": [],
   "source": [
    "class Persona:\n",
    "    nombre = \"\"\n",
    "    apellidos = \"\"\n",
    "    dni = \"\"\n",
    "    talla = 0"
   ]
  },
  {
   "cell_type": "code",
   "execution_count": 3,
   "id": "76f5af0f",
   "metadata": {},
   "outputs": [],
   "source": [
    "# Creamos un objeto personal de la clase Persona()\n",
    "# Y le asignamos valores\n",
    "\n",
    "# Creación del objeto personal\n",
    "persona1 = Persona()"
   ]
  },
  {
   "cell_type": "code",
   "execution_count": 10,
   "id": "dd3e63b6",
   "metadata": {},
   "outputs": [],
   "source": [
    "# Asignamos valores al objeto\n",
    "persona1.nombre = \"Jhon Antony\"\n",
    "persona1.apellidos = \"Urbisagastegui Huamani\"\n",
    "persona1.dni = \"73895200\"\n",
    "persona1.talla = 1.6"
   ]
  },
  {
   "cell_type": "code",
   "execution_count": 11,
   "id": "c1c46840",
   "metadata": {},
   "outputs": [
    {
     "name": "stdout",
     "output_type": "stream",
     "text": [
      "persona1\n",
      "Nombre: Jhon Antony\n",
      "Apellidofs: Urbisagastegui Huamani\n",
      "DNI: 73895200\n",
      "Talla: 1.6\n"
     ]
    }
   ],
   "source": [
    "# Para mostar valores del objeto\n",
    "print(\"persona1\")\n",
    "print(f\"Nombre: {persona1.nombre}\")\n",
    "print(f\"Apellidofs: {persona1.apellidos}\")\n",
    "print(f\"DNI: {persona1.dni}\")\n",
    "print(f\"Talla: {persona1.talla}\")"
   ]
  },
  {
   "cell_type": "code",
   "execution_count": 6,
   "id": "0a670e9e",
   "metadata": {},
   "outputs": [],
   "source": [
    "# Para utilizar constructors utilizamos: __init__\n",
    "# ¿Qué es un constructor?\n",
    "# - Es un método\n",
    "# - Sirve para inicializar valores a una clase"
   ]
  },
  {
   "cell_type": "code",
   "execution_count": 7,
   "id": "880aa82e",
   "metadata": {},
   "outputs": [],
   "source": [
    "# Problema 02:\n",
    "\n",
    "# Crear la siguiente clase y utilizar constructores:\n",
    "# - Clase: Curso\n",
    "# - Atributos: Codigo, Nombre, Horas, Creditos"
   ]
  },
  {
   "cell_type": "code",
   "execution_count": 21,
   "id": "03dd663d",
   "metadata": {},
   "outputs": [],
   "source": [
    "# Solución\n",
    "class curso:\n",
    "    def __init__(self, codigo, nombre, horas, creditos):\n",
    "        self.codigo = codigo\n",
    "        self.nombre = nombre\n",
    "        self.horas = horas\n",
    "        self.creditos = creditos\n",
    "        \n",
    "    def mostrar_datos_curso(self):\n",
    "        print(f\"Curso: {self.nombre}\")\n",
    "        print(f\"Código: {self.codigo}\")\n",
    "        print(f\"Horas: {self.horas}\")\n",
    "        print(f\"Créditos: {self.creditos}\")"
   ]
  },
  {
   "cell_type": "code",
   "execution_count": 22,
   "id": "cbd287c0",
   "metadata": {},
   "outputs": [],
   "source": [
    "# Creamos el objeto curos1 y le mandamos parámetros\n",
    "curso1 = curso(\"C0501\",\"LP3\",6,3)"
   ]
  },
  {
   "cell_type": "code",
   "execution_count": 23,
   "id": "9a632524",
   "metadata": {},
   "outputs": [
    {
     "name": "stdout",
     "output_type": "stream",
     "text": [
      "Curso: LP3\n",
      "Código: C0501\n",
      "Horas: 6\n",
      "Créditos: 3\n"
     ]
    }
   ],
   "source": [
    "# Mostrar los datos completos del curso, ejecutando el metodo\n",
    "# Mostrar_datos_curso()\n",
    "curso1.mostrar_datos_curso()"
   ]
  },
  {
   "cell_type": "code",
   "execution_count": null,
   "id": "acba243f",
   "metadata": {},
   "outputs": [],
   "source": []
  }
 ],
 "metadata": {
  "kernelspec": {
   "display_name": "Python 3 (ipykernel)",
   "language": "python",
   "name": "python3"
  },
  "language_info": {
   "codemirror_mode": {
    "name": "ipython",
    "version": 3
   },
   "file_extension": ".py",
   "mimetype": "text/x-python",
   "name": "python",
   "nbconvert_exporter": "python",
   "pygments_lexer": "ipython3",
   "version": "3.9.13"
  }
 },
 "nbformat": 4,
 "nbformat_minor": 5
}
