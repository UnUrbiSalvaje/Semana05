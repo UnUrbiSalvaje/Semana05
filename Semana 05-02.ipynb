{
 "cells": [
  {
   "cell_type": "markdown",
   "id": "1f2d3384",
   "metadata": {},
   "source": [
    "# SEMANA 05 "
   ]
  },
  {
   "cell_type": "raw",
   "id": "add536c5",
   "metadata": {},
   "source": [
    "Mg. Flor Elizabeth Cerdan Leon\n",
    "Temas:\n",
    "1. Colecciones de datos\n",
    "2. Estructuras decisivas\n",
    "3. Clases y objetos\n",
    "4. Funciones"
   ]
  },
  {
   "cell_type": "markdown",
   "id": "16d8fb24",
   "metadata": {},
   "source": [
    "2. Estructuras decisivas"
   ]
  },
  {
   "cell_type": "code",
   "execution_count": null,
   "id": "3391b25e",
   "metadata": {},
   "outputs": [],
   "source": [
    "# Estructuras decisivas (if, elif, else)"
   ]
  },
  {
   "cell_type": "code",
   "execution_count": 1,
   "id": "2dae9333",
   "metadata": {},
   "outputs": [
    {
     "name": "stdout",
     "output_type": "stream",
     "text": [
      "Producto 1: 412\n",
      "Producto 2: 7789\n",
      "Producto 3: 475\n",
      "Total a pagarse: 7808.400000000001\n"
     ]
    }
   ],
   "source": [
    "P1 = float(input(\"Producto 1: \"))\n",
    "P2 = float(input(\"Producto 2: \"))\n",
    "P3 = float(input(\"Producto 3: \"))\n",
    "total = P1 + P2 + P3\n",
    "if total >=100:\n",
    "    total*=0.9\n",
    "print(f\"Total a pagarse: {total}\")"
   ]
  },
  {
   "cell_type": "code",
   "execution_count": null,
   "id": "cc0f0df4",
   "metadata": {},
   "outputs": [],
   "source": [
    "# 1.5 Ejercicio\n",
    "# Dado una lista de [ASUNCION, AYQUIPA, BARZOLA, CAMAN, CURO, INCA, SAHUMA, TALLEDO, URBISAGASTEGUI]\n",
    "# Diseñar un código que muestre si el apellido de un estudiante (Ingresado por el teclado) forma parte de la lista"
   ]
  },
  {
   "cell_type": "code",
   "execution_count": 2,
   "id": "60c8a3bd",
   "metadata": {},
   "outputs": [
    {
     "name": "stdout",
     "output_type": "stream",
     "text": [
      "BARZOLA\n",
      "El alumno BARZOLA si pertenece al aulaLP3\n"
     ]
    }
   ],
   "source": [
    "aulaLP3 = ['ASUNCION','AYQUIPA','BARZOLA','CAMAN','CURO','INCA','SAHUMA','TALLEDO','URBISAGASTEGUI']\n",
    "alumno = input()\n",
    "if alumno in aulaLP3:\n",
    "    print(f'El alumno {alumno} si pertenece al aulaLP3')\n",
    "else:\n",
    "    print(f'El alumno {alumno} no pertenece al aulaLP3')"
   ]
  },
  {
   "cell_type": "code",
   "execution_count": null,
   "id": "8d092e9b",
   "metadata": {},
   "outputs": [],
   "source": [
    "# Problema 02\n",
    "# Dado el importe total de ventas realizados por un trabajador (ingresado por teclado)\n",
    "# Categorizar que tipo de empleado es, considerando la siguiente tabla:\n",
    "\n",
    "# Categoría A -> [0, 1000]\n",
    "# Categoría B -> <1000, 2000]\n",
    "# Categoría C -> <2000, 5000]\n",
    "# Categoría D -> <5000, Más]"
   ]
  },
  {
   "cell_type": "code",
   "execution_count": 15,
   "id": "f7c29d89",
   "metadata": {},
   "outputs": [
    {
     "name": "stdout",
     "output_type": "stream",
     "text": [
      "Importe de ventas realizada: 5200\n",
      "Categoria D\n"
     ]
    }
   ],
   "source": [
    "# Solucion\n",
    "ventas = float(input(\"Importe de ventas realizada: \"))\n",
    "if ventas < 0:\n",
    "    print(\"Datos erroneas\")\n",
    "else:\n",
    "    if ventas <= 1000:\n",
    "        print(\"Categoria A\")\n",
    "    else:\n",
    "        if ventas <= 2000:\n",
    "            print(\"Categoria B\")\n",
    "        else:\n",
    "            if ventas <=5000:\n",
    "                print(\"Categoria C\")\n",
    "            else: \n",
    "                print(\"Categoria D\")"
   ]
  },
  {
   "cell_type": "code",
   "execution_count": null,
   "id": "de50989f",
   "metadata": {},
   "outputs": [],
   "source": [
    "# elif\n",
    "# Problema 03, Solucionar el problema anterior utilizando elif\n",
    "\n",
    "# Dado el importe total de ventas realizadas por un trabajador (ingresado por teclado)\n",
    "# Categorizar que tipo de empleado es, considerando la siguiente tabla:\n",
    "\n",
    "# Categoría A -> [0, 1000]\n",
    "# Categoría B -> <1000, 2000]\n",
    "# Categoría C -> <2000, 5000]\n",
    "# Categoría D -> <5000, Más]"
   ]
  },
  {
   "cell_type": "code",
   "execution_count": 16,
   "id": "4c9af43b",
   "metadata": {},
   "outputs": [
    {
     "name": "stdout",
     "output_type": "stream",
     "text": [
      "Importe de ventas realizada: 3200\n",
      "Categoria C\n"
     ]
    }
   ],
   "source": [
    "ventas = float(input(\"Importe de ventas realizada: \"))\n",
    "if ventas < 0:\n",
    "    print(\"Datos erroneas\")\n",
    "elif ventas <= 1000:\n",
    "    print(\"Categoria A\")\n",
    "elif ventas <= 2000:\n",
    "    print(\"Categoria B\")\n",
    "elif ventas <=5000:\n",
    "    print(\"Categoria C\")\n",
    "else: \n",
    "    print(\"Categoria D\")"
   ]
  },
  {
   "cell_type": "code",
   "execution_count": null,
   "id": "5b40413c",
   "metadata": {},
   "outputs": [],
   "source": [
    "# 2.2 Estructuras repetitivas"
   ]
  },
  {
   "cell_type": "code",
   "execution_count": 3,
   "id": "3451bf38",
   "metadata": {},
   "outputs": [],
   "source": [
    "# for"
   ]
  },
  {
   "cell_type": "code",
   "execution_count": 4,
   "id": "3c259229",
   "metadata": {},
   "outputs": [],
   "source": [
    "# Problema 01\n",
    "# Mostrar los elementos de una lista utilizando el for"
   ]
  },
  {
   "cell_type": "code",
   "execution_count": 5,
   "id": "5dc03092",
   "metadata": {},
   "outputs": [
    {
     "name": "stdout",
     "output_type": "stream",
     "text": [
      "INCA\n",
      "BARZOLA\n",
      "URBISAGASTEGUI\n",
      "CAMAN\n"
     ]
    }
   ],
   "source": [
    "# Solución\n",
    "aula = ['INCA','BARZOLA','URBISAGASTEGUI','CAMAN']\n",
    "# Por cada alumno que está en la lista, imprimir el alumno\n",
    "for alumno in aula:\n",
    "    print(alumno)"
   ]
  },
  {
   "cell_type": "code",
   "execution_count": 6,
   "id": "efd4a28c",
   "metadata": {},
   "outputs": [],
   "source": [
    "# Problema 02\n",
    "# Dado una cadena ingresado por teclado, mostrar cada caracter de la cadena, utilizando el for"
   ]
  },
  {
   "cell_type": "code",
   "execution_count": 9,
   "id": "261ac0a0",
   "metadata": {},
   "outputs": [
    {
     "name": "stdout",
     "output_type": "stream",
     "text": [
      "Ingrese Cadena: Ya basta Freezerrrrrr\n",
      "Y\n",
      "a\n",
      " \n",
      "b\n",
      "a\n",
      "s\n",
      "t\n",
      "a\n",
      " \n",
      "F\n",
      "r\n",
      "e\n",
      "e\n",
      "z\n",
      "e\n",
      "r\n",
      "r\n",
      "r\n",
      "r\n",
      "r\n",
      "r\n"
     ]
    }
   ],
   "source": [
    "# Solución \n",
    "cadena = input(\"Ingrese Cadena: \")\n",
    "for caracter in cadena:\n",
    "    print(caracter)"
   ]
  },
  {
   "cell_type": "code",
   "execution_count": 17,
   "id": "e9ed80c5",
   "metadata": {},
   "outputs": [
    {
     "data": {
      "text/plain": [
       "range(0, 5)"
      ]
     },
     "execution_count": 17,
     "metadata": {},
     "output_type": "execute_result"
    }
   ],
   "source": [
    "# Generar rango de números usando range()\n",
    "range(5)\n",
    "# [0,5>"
   ]
  },
  {
   "cell_type": "code",
   "execution_count": 19,
   "id": "c5881b5e",
   "metadata": {},
   "outputs": [
    {
     "name": "stdout",
     "output_type": "stream",
     "text": [
      "0\n",
      "1\n",
      "2\n",
      "3\n",
      "4\n",
      "5\n",
      "6\n",
      "7\n",
      "8\n",
      "9\n",
      "10\n"
     ]
    }
   ],
   "source": [
    "# Problema 02\n",
    "# Imprimir los números de 0 a 10, utilizamos for \n",
    "for numero in range (0,11):\n",
    "    print(numero)"
   ]
  },
  {
   "cell_type": "code",
   "execution_count": 20,
   "id": "cb9b95a9",
   "metadata": {},
   "outputs": [
    {
     "name": "stdout",
     "output_type": "stream",
     "text": [
      "5\n",
      "6\n",
      "7\n",
      "8\n",
      "9\n",
      "10\n"
     ]
    }
   ],
   "source": [
    "# Problema 03\n",
    "# Imprimir los números de 5 a 10, utilizamos for \n",
    "for numero in range (5,11):\n",
    "    print(numero)"
   ]
  },
  {
   "cell_type": "code",
   "execution_count": 11,
   "id": "a2a11c00",
   "metadata": {},
   "outputs": [
    {
     "name": "stdout",
     "output_type": "stream",
     "text": [
      "10\n",
      "12\n",
      "14\n",
      "16\n",
      "18\n",
      "20\n"
     ]
    }
   ],
   "source": [
    "# Problema 04\n",
    "# Imprimir los números de 10 a 20, tuilizando for\n",
    "for numero in range(10,22,2):\n",
    "    print (numero)"
   ]
  },
  {
   "cell_type": "code",
   "execution_count": 12,
   "id": "07f8e48a",
   "metadata": {},
   "outputs": [],
   "source": [
    "# while\n",
    "# Permite ejecutar un conjunto de acciones "
   ]
  },
  {
   "cell_type": "code",
   "execution_count": 13,
   "id": "60cc6700",
   "metadata": {},
   "outputs": [
    {
     "name": "stdout",
     "output_type": "stream",
     "text": [
      "1\n",
      "2\n",
      "3\n",
      "4\n",
      "5\n",
      "6\n",
      "7\n",
      "8\n",
      "9\n",
      "10\n"
     ]
    }
   ],
   "source": [
    "# Ejemplo:\n",
    "numero = 1\n",
    "fin = 10\n",
    "while numero <= fin:\n",
    "    print(numero)\n",
    "    numero+=1"
   ]
  },
  {
   "cell_type": "code",
   "execution_count": null,
   "id": "41fadeec",
   "metadata": {},
   "outputs": [],
   "source": []
  }
 ],
 "metadata": {
  "kernelspec": {
   "display_name": "Python 3 (ipykernel)",
   "language": "python",
   "name": "python3"
  },
  "language_info": {
   "codemirror_mode": {
    "name": "ipython",
    "version": 3
   },
   "file_extension": ".py",
   "mimetype": "text/x-python",
   "name": "python",
   "nbconvert_exporter": "python",
   "pygments_lexer": "ipython3",
   "version": "3.9.13"
  }
 },
 "nbformat": 4,
 "nbformat_minor": 5
}
